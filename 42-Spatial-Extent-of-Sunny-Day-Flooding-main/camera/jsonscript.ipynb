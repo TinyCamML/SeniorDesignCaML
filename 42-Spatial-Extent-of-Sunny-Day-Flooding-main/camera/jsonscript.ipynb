{
 "cells": [
  {
   "cell_type": "markdown",
   "metadata": {},
   "source": [
    "This script combines json files and then plots the flood status from the camera but can be easily modified to plot any json files. Running on Python 3.11"
   ]
  },
  {
   "cell_type": "code",
   "execution_count": 2,
   "metadata": {},
   "outputs": [
    {
     "ename": "FileNotFoundError",
     "evalue": "[Errno 2] No such file or directory: 'data-2024-03-12T23 17 38Z.json'",
     "output_type": "error",
     "traceback": [
      "\u001b[1;31m---------------------------------------------------------------------------\u001b[0m",
      "\u001b[1;31mFileNotFoundError\u001b[0m                         Traceback (most recent call last)",
      "Cell \u001b[1;32mIn[2], line 11\u001b[0m\n\u001b[0;32m      9\u001b[0m \u001b[38;5;66;03m# Load each JSON file into a Python object and extend the python_objects list.\u001b[39;00m\n\u001b[0;32m     10\u001b[0m \u001b[38;5;28;01mfor\u001b[39;00m json_file \u001b[38;5;129;01min\u001b[39;00m json_files:\n\u001b[1;32m---> 11\u001b[0m     \u001b[38;5;28;01mwith\u001b[39;00m \u001b[38;5;28;43mopen\u001b[39;49m\u001b[43m(\u001b[49m\u001b[43mjson_file\u001b[49m\u001b[43m,\u001b[49m\u001b[43m \u001b[49m\u001b[38;5;124;43m\"\u001b[39;49m\u001b[38;5;124;43mr\u001b[39;49m\u001b[38;5;124;43m\"\u001b[39;49m\u001b[43m)\u001b[49m \u001b[38;5;28;01mas\u001b[39;00m f:\n\u001b[0;32m     12\u001b[0m         python_objects\u001b[38;5;241m.\u001b[39mextend(json\u001b[38;5;241m.\u001b[39mload(f))\n\u001b[0;32m     14\u001b[0m \u001b[38;5;66;03m# Dump all the Python objects into a single JSON file.\u001b[39;00m\n",
      "File \u001b[1;32m~\\AppData\\Local\\Packages\\PythonSoftwareFoundation.Python.3.11_qbz5n2kfra8p0\\LocalCache\\local-packages\\Python311\\site-packages\\IPython\\core\\interactiveshell.py:308\u001b[0m, in \u001b[0;36m_modified_open\u001b[1;34m(file, *args, **kwargs)\u001b[0m\n\u001b[0;32m    301\u001b[0m \u001b[38;5;28;01mif\u001b[39;00m file \u001b[38;5;129;01min\u001b[39;00m {\u001b[38;5;241m0\u001b[39m, \u001b[38;5;241m1\u001b[39m, \u001b[38;5;241m2\u001b[39m}:\n\u001b[0;32m    302\u001b[0m     \u001b[38;5;28;01mraise\u001b[39;00m \u001b[38;5;167;01mValueError\u001b[39;00m(\n\u001b[0;32m    303\u001b[0m         \u001b[38;5;124mf\u001b[39m\u001b[38;5;124m\"\u001b[39m\u001b[38;5;124mIPython won\u001b[39m\u001b[38;5;124m'\u001b[39m\u001b[38;5;124mt let you open fd=\u001b[39m\u001b[38;5;132;01m{\u001b[39;00mfile\u001b[38;5;132;01m}\u001b[39;00m\u001b[38;5;124m by default \u001b[39m\u001b[38;5;124m\"\u001b[39m\n\u001b[0;32m    304\u001b[0m         \u001b[38;5;124m\"\u001b[39m\u001b[38;5;124mas it is likely to crash IPython. If you know what you are doing, \u001b[39m\u001b[38;5;124m\"\u001b[39m\n\u001b[0;32m    305\u001b[0m         \u001b[38;5;124m\"\u001b[39m\u001b[38;5;124myou can use builtins\u001b[39m\u001b[38;5;124m'\u001b[39m\u001b[38;5;124m open.\u001b[39m\u001b[38;5;124m\"\u001b[39m\n\u001b[0;32m    306\u001b[0m     )\n\u001b[1;32m--> 308\u001b[0m \u001b[38;5;28;01mreturn\u001b[39;00m \u001b[43mio_open\u001b[49m\u001b[43m(\u001b[49m\u001b[43mfile\u001b[49m\u001b[43m,\u001b[49m\u001b[43m \u001b[49m\u001b[38;5;241;43m*\u001b[39;49m\u001b[43margs\u001b[49m\u001b[43m,\u001b[49m\u001b[43m \u001b[49m\u001b[38;5;241;43m*\u001b[39;49m\u001b[38;5;241;43m*\u001b[39;49m\u001b[43mkwargs\u001b[49m\u001b[43m)\u001b[49m\n",
      "\u001b[1;31mFileNotFoundError\u001b[0m: [Errno 2] No such file or directory: 'data-2024-03-12T23 17 38Z.json'"
     ]
    }
   ],
   "source": [
    "import json\n",
    "\n",
    "# Create a list of all the JSON files that you want to combine.\n",
    "json_files = [\"data-2024-03-12T23 17 38Z.json\",\"data-2024-03-18T21 48 06Z.json\",\"data-2024-04-02T14 41 16Z.json\", \"data-2024-03-26T02 10 53Z.json\"]\n",
    "\n",
    "# Create an empty list to store the Python objects.\n",
    "python_objects = []\n",
    "\n",
    "# Load each JSON file into a Python object and extend the python_objects list.\n",
    "for json_file in json_files:\n",
    "    with open(json_file, \"r\") as f:\n",
    "        python_objects.extend(json.load(f))\n",
    "\n",
    "# Dump all the Python objects into a single JSON file.\n",
    "with open(\"combined.json\", \"w\") as f:\n",
    "    json.dump(python_objects, f, indent=4)"
   ]
  },
  {
   "cell_type": "code",
   "execution_count": 1,
   "metadata": {},
   "outputs": [
    {
     "ename": "SyntaxError",
     "evalue": "(unicode error) 'unicodeescape' codec can't decode bytes in position 2-3: truncated \\UXXXXXXXX escape (948310938.py, line 6)",
     "output_type": "error",
     "traceback": [
      "\u001b[1;36m  Cell \u001b[1;32mIn[1], line 6\u001b[1;36m\u001b[0m\n\u001b[1;33m    with open('C:\\Users\\mwjoh\\OneDrive\\Senior-Year\\ECE-484-485\\combined.json') as f:\u001b[0m\n\u001b[1;37m                                                                             ^\u001b[0m\n\u001b[1;31mSyntaxError\u001b[0m\u001b[1;31m:\u001b[0m (unicode error) 'unicodeescape' codec can't decode bytes in position 2-3: truncated \\UXXXXXXXX escape\n"
     ]
    }
   ],
   "source": [
    "import json\n",
    "import matplotlib.pyplot as plt\n",
    "from datetime import datetime\n",
    "\n",
    "# Load data from JSON file\n",
    "with open('C:\\Users\\mwjoh\\OneDrive\\Senior-Year\\ECE-484-485\\combined.json') as f:\n",
    "    data = json.load(f)\n",
    "\n",
    "# Filter data for entries with \"file\" as \"203733583236500300260046#camera002.qo\" and after 03/27\n",
    "filtered_data = [entry for entry in data if entry.get('file') == '203733583236500300260046#camera002.qo' and datetime.utcfromtimestamp(entry['when']) >= datetime(2024, 3, 27) and datetime.utcfromtimestamp(entry['when']) < datetime(2024, 4, 2)]\n",
    "\n",
    "# Extract floodstatus and when values\n",
    "floodstatus = [entry['body']['voltage'] for entry in filtered_data]\n",
    "when = [datetime.utcfromtimestamp(entry['when']) for entry in filtered_data]\n",
    "\n",
    "# Plot floodstatus data points\n",
    "plt.plot(when, floodstatus, marker='o', linestyle='-')\n",
    "plt.xlabel('Datetime')\n",
    "plt.ylabel('Floodstatus')\n",
    "plt.title('Floodstatus over Time (After 03/27)')\n",
    "plt.xticks(rotation=45)\n",
    "plt.tight_layout()\n",
    "plt.show()"
   ]
  },
  {
   "cell_type": "code",
   "execution_count": null,
   "metadata": {},
   "outputs": [],
   "source": []
  }
 ],
 "metadata": {
  "kernelspec": {
   "display_name": "Python 3",
   "language": "python",
   "name": "python3"
  },
  "language_info": {
   "codemirror_mode": {
    "name": "ipython",
    "version": 3
   },
   "file_extension": ".py",
   "mimetype": "text/x-python",
   "name": "python",
   "nbconvert_exporter": "python",
   "pygments_lexer": "ipython3",
   "version": "3.11.8"
  }
 },
 "nbformat": 4,
 "nbformat_minor": 2
}
